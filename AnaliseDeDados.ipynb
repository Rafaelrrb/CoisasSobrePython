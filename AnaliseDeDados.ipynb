{
 "cells": [
  {
   "cell_type": "code",
   "execution_count": null,
   "source": [
    "# rodar apenas uma vez \n",
    "# Como instalar\n",
    "!pip install plotly"
   ],
   "outputs": [],
   "metadata": {}
  },
  {
   "cell_type": "code",
   "execution_count": null,
   "source": [
    "# Passo 1: Importar a base de dados\n",
    "import pandas as pd\n",
    "\n",
    "tabela = pd.read_csv(\"telecom_users.csv\")\n",
    "\n",
    "# Passo 2: Visualizar a base de dados\n",
    "tabela = tabela.drop(\"Unnamed: 0\", axis=1)  # remove uma coluna (nome da coluna / falar se é uma coluna(1) ou linha(0))\n",
    "display(tabela)\n",
    "# - Entender quais as informações tão disponíveis\n"
   ],
   "outputs": [],
   "metadata": {}
  },
  {
   "cell_type": "code",
   "execution_count": null,
   "source": [
    "# Passo 3: Tratamento de dados\n",
    "# - Valores que estão reconhecidos de forma errada\n",
    "tabela[\"TotalGasto\"] = pd.to_numeric(tabela[\"TotalGasto\"], errors=\"coerce\") # coverte a coluna em numerica / errors quando achar um erro deleta\n",
    "\n",
    "# - Valores vazios\n",
    "# deletando as colunas vazias\n",
    "# axis = 0 > linha ou axis = 1 > coluna\n",
    "tabela = tabela.dropna(how=\"all\", axis=1) # all = todos os valores vazios\n",
    "# deletando as linhas vazias\n",
    "tabela = tabela.dropna(how=\"any\", axis=0) # any = que tem pelo menos 1 valor vazio\n",
    "\n",
    "print(tabela.info())"
   ],
   "outputs": [],
   "metadata": {}
  },
  {
   "cell_type": "code",
   "execution_count": null,
   "source": [
    "# Passo 4: Análise Inicial\n",
    "# Como estão os nossos cancelamentos?\n",
    "print(tabela[\"Churn\"].value_counts())\n",
    "print(tabela[\"Churn\"].value_counts(normalize=True).map(\"{:.1%}\".format)) # calcula em %"
   ],
   "outputs": [],
   "metadata": {}
  },
  {
   "cell_type": "code",
   "execution_count": null,
   "source": [
    "# Passo 5: Análise Mais completa\n",
    "# comparar cada coluna da minha tabela com a coluna de cancelamento\n",
    "import plotly.express as px\n",
    "\n",
    "# etapa 1: criar o gráfico\n",
    "for coluna in tabela.columns:\n",
    "    # para edições nos gráficos: https://plotly.com/python/histograms/\n",
    "    # para mudar a cor do gráfico , color_discrete_sequence=[\"blue\", \"green\"]\n",
    "    grafico = px.histogram(tabela, x=coluna, color=\"Churn\") # x= o que vc quer de informação /  color = pinta a parte comparada\n",
    "    # etapa 2: exibir o gráfico\n",
    "    grafico.show()"
   ],
   "outputs": [],
   "metadata": {}
  }
 ],
 "metadata": {
  "orig_nbformat": 4,
  "language_info": {
   "name": "python",
   "version": "3.8.10",
   "mimetype": "text/x-python",
   "codemirror_mode": {
    "name": "ipython",
    "version": 3
   },
   "pygments_lexer": "ipython3",
   "nbconvert_exporter": "python",
   "file_extension": ".py"
  },
  "kernelspec": {
   "name": "python3",
   "display_name": "Python 3.8.10 64-bit"
  },
  "interpreter": {
   "hash": "916dbcbb3f70747c44a77c7bcd40155683ae19c65e1c03b4aa3499c5328201f1"
  }
 },
 "nbformat": 4,
 "nbformat_minor": 2
}