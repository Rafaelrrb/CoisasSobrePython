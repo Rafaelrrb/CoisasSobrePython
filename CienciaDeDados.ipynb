{
 "cells": [
  {
   "cell_type": "code",
   "execution_count": null,
   "metadata": {},
   "outputs": [],
   "source": [
    "# Roda 1 vez \n",
    "!pip install matplotlib\n",
    "!pip install seaborn\n",
    "!pip install scikit-learn"
   ]
  },
  {
   "cell_type": "code",
   "execution_count": null,
   "metadata": {},
   "outputs": [],
   "source": [
    "# importando base de dados\n",
    "import pandas as pd\n",
    "\n",
    "tabela = pd.read_csv(\"advertising.csv\")\n",
    "display(tabela)"
   ]
  },
  {
   "cell_type": "code",
   "execution_count": null,
   "metadata": {},
   "outputs": [],
   "source": [
    "# descobrir a correlação dentro da tabela\n",
    "# por meio de graficos\n",
    "\n",
    "import seaborn as sns\n",
    "import matplotlib.pyplot as plt\n",
    "\n",
    "sns.heatmap(tabela.corr(), annot=True, cmap=\"Wistia\") # mapa de calor (cria o mapa , mostra os valores denotro do mapa , define as cores)\n",
    "plt.show()\n",
    "\n",
    "\n",
    "sns.pairplot(tabela) # monta um gafico com a correlação dentro da tabela\n",
    "plt.show() # exibe o grafico"
   ]
  },
  {
   "cell_type": "code",
   "execution_count": null,
   "metadata": {},
   "outputs": [],
   "source": [
    "# Treinar o modelo de machine learning\n",
    "from sklearn.model_selection import train_test_split\n",
    "\n",
    "y = tabela[\"Vendas\"] # quem eu quero prever\n",
    "x = tabela.drop(\"Vendas\", axis=1) # quem vou usar pra calcular\n",
    "\n",
    "# dados de treino e dados de teste\n",
    "x_treino, x_teste, y_treino, y_teste = train_test_split(x, y, test_size=0.3, random_state=1) \n",
    "# test_size=0.3 define o tamanho do teste em % no caso 30%"
   ]
  },
  {
   "cell_type": "code",
   "execution_count": null,
   "metadata": {},
   "outputs": [],
   "source": [
    "from sklearn.linear_model import LinearRegression\n",
    "from sklearn.ensemble import RandomForestRegressor\n",
    "\n",
    "# cria as inteligencias aritificiais\n",
    "modelo_regressaolinear = LinearRegression()\n",
    "modelo_arvoredecisao = RandomForestRegressor()\n",
    "\n",
    "# treina as inteligencias artificias\n",
    "modelo_regressaolinear.fit(x_treino, y_treino)\n",
    "modelo_arvoredecisao.fit(x_treino, y_treino)"
   ]
  },
  {
   "cell_type": "code",
   "execution_count": null,
   "metadata": {},
   "outputs": [],
   "source": [
    "# Tetse da AI e avaliação do melhor modelo\n",
    "\n",
    "from sklearn import metrics\n",
    "\n",
    "# criar as previsoes\n",
    "previsao_regressaolinear = modelo_regressaolinear.predict(x_teste)\n",
    "previsao_arvoredecisao = modelo_arvoredecisao.predict(x_teste)\n",
    "\n",
    "# comparar os modelos\n",
    "print(metrics.r2_score(y_teste, previsao_regressaolinear))\n",
    "print(metrics.r2_score(y_teste, previsao_arvoredecisao))  "
   ]
  },
  {
   "cell_type": "code",
   "execution_count": null,
   "metadata": {},
   "outputs": [],
   "source": [
    "# visualização grafica das previsões\n",
    "tabela_auxiliar = pd.DataFrame()\n",
    "tabela_auxiliar[\"y_teste\"] = y_teste\n",
    "tabela_auxiliar[\"Previsoes ArvoreDecisao\"] = previsao_arvoredecisao\n",
    "tabela_auxiliar[\"Previsoes Regressao Linear\"] = previsao_regressaolinear\n",
    "\n",
    "plt.figure(figsize=(15,6))\n",
    "sns.lineplot(data=tabela_auxiliar)\n",
    "plt.show()"
   ]
  },
  {
   "cell_type": "code",
   "execution_count": null,
   "metadata": {},
   "outputs": [],
   "source": [
    "sns.barplot(x=x_treino.columns, y=modelo_arvoredecisao.feature_importances_)\n",
    "plt.show()\n",
    "\n",
    "# Caso queira comparar Radio com Jornal\n",
    "# print(df[[\"Radio\", \"Jornal\"]].sum())"
   ]
  },
  {
   "cell_type": "code",
   "execution_count": null,
   "metadata": {},
   "outputs": [],
   "source": [
    "# Como fazer uma nova previsao\n",
    "# importar a nova_tabela com o pandas (a nova tabela tem que ter os dados de TV, Radio e Jornal)\n",
    "# previsao = modelo_randomforest.predict(nova_tabela)\n",
    "# print(previsao)\n",
    "nova_tabela = pd.read_csv(\"novos.csv\")\n",
    "display(nova_tabela)\n",
    "previsao = modelo_arvoredecisao.predict(nova_tabela)\n",
    "print(previsao)"
   ]
  }
 ],
 "metadata": {
  "interpreter": {
   "hash": "09d9bfdd3240a83075f582f8b25e4994178e1276306cc59b7dbb5cde090bf3e5"
  },
  "kernelspec": {
   "display_name": "Python 3.8.8 64-bit ('base': conda)",
   "name": "python3"
  },
  "language_info": {
   "name": "python",
   "version": "3.8.8"
  },
  "orig_nbformat": 4
 },
 "nbformat": 4,
 "nbformat_minor": 2
}
